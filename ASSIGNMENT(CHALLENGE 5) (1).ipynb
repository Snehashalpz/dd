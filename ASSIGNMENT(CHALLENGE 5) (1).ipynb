{
 "cells": [
  {
   "cell_type": "markdown",
   "id": "a39a777c",
   "metadata": {},
   "source": [
    "# CHALLENGE 5--->> Handling a bank account"
   ]
  },
  {
   "cell_type": "code",
   "execution_count": 2,
   "id": "9eb8d6f8",
   "metadata": {},
   "outputs": [
    {
     "name": "stdout",
     "output_type": "stream",
     "text": [
      "balance after deposit: 2500\n",
      "balance after withdrawal: 1500\n",
      "the interestamount is: 100.0\n"
     ]
    }
   ],
   "source": [
    "#define methods for handling a ban account using concepts of inheritance\n",
    "\n",
    "class Account:\n",
    "    def __init__(self,title,balance):\n",
    "        self.title = title\n",
    "        self.balance = balance\n",
    "        \n",
    "    def withdrawal(self,amount):\n",
    "        self.balance -= amount\n",
    "    \n",
    "        \n",
    "    def deposit(self,amount):\n",
    "        self.balance += amount\n",
    "        \n",
    "    def get_balance(self):\n",
    "        return self.balance\n",
    "\n",
    "class SavingsAccount(Account):\n",
    "    def __init__(self, title= None, balance = 0, interestRate = 0):\n",
    "        super().__init__(title,balance)\n",
    "        self.interestRate = interestRate\n",
    "        \n",
    "    def interestAmount(self):\n",
    "        return (self.balance * self.interestRate)/100\n",
    "    \n",
    "demo1 = SavingsAccount(\"Ashish\",2000,5)\n",
    "demo1.deposit(500)\n",
    "print(\"balance after deposit:\",demo1.get_balance())\n",
    "\n",
    "demo1 = SavingsAccount(\"Ashish\",2000,5)\n",
    "demo1.withdrawal(500)\n",
    "print(\"balance after withdrawal:\",demo1.get_balance())\n",
    "\n",
    "demo1 = SavingsAccount(\"Ashish\",2000,5)\n",
    "print(\"the interestamount is:\",demo1.interestAmount())\n",
    "    \n",
    "    "
   ]
  },
  {
   "cell_type": "code",
   "execution_count": null,
   "id": "3088d031",
   "metadata": {},
   "outputs": [],
   "source": []
  }
 ],
 "metadata": {
  "kernelspec": {
   "display_name": "Python 3 (ipykernel)",
   "language": "python",
   "name": "python3"
  },
  "language_info": {
   "codemirror_mode": {
    "name": "ipython",
    "version": 3
   },
   "file_extension": ".py",
   "mimetype": "text/x-python",
   "name": "python",
   "nbconvert_exporter": "python",
   "pygments_lexer": "ipython3",
   "version": "3.10.9"
  }
 },
 "nbformat": 4,
 "nbformat_minor": 5
}

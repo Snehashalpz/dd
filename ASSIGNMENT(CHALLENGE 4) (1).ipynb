{
 "cells": [
  {
   "cell_type": "markdown",
   "id": "51a5050b",
   "metadata": {},
   "source": [
    "# CHALLENGE 4 --->> Implement banking account"
   ]
  },
  {
   "cell_type": "code",
   "execution_count": 4,
   "id": "7337dd4e",
   "metadata": {},
   "outputs": [
    {
     "name": "stdout",
     "output_type": "stream",
     "text": [
      "Ashish\n",
      "5000\n",
      "Account holder name: Ashish\n",
      "balance amount in Account: 5000\n",
      "interest for their amount: 5\n"
     ]
    }
   ],
   "source": [
    "#implement the basic structure of a parent class Account and a child class SavingsAccount\n",
    "\n",
    "\n",
    "class Account:\n",
    "    def __init__(self,title,balance):\n",
    "        self.title = title\n",
    "        self.balance = balance\n",
    "        \n",
    "class SavingsAccount(Account):\n",
    "    def __init__(self,title,balance,interestRate):\n",
    "        super().__init__(title,balance)\n",
    "        self.interestRate = interestRate\n",
    "        \n",
    "        \n",
    "account = Account(\"Ashish\",5000)\n",
    "print(account.title)\n",
    "print(account.balance)\n",
    "\n",
    "savings_account = SavingsAccount(\"Ashish\",5000,5)\n",
    "print(\"Account holder name:\",savings_account.title)\n",
    "print(\"balance amount in Account:\",savings_account.balance)\n",
    "print(\"interest for their amount:\",savings_account.interestRate)"
   ]
  },
  {
   "cell_type": "code",
   "execution_count": null,
   "id": "47eeebdd",
   "metadata": {},
   "outputs": [],
   "source": []
  }
 ],
 "metadata": {
  "kernelspec": {
   "display_name": "Python 3 (ipykernel)",
   "language": "python",
   "name": "python3"
  },
  "language_info": {
   "codemirror_mode": {
    "name": "ipython",
    "version": 3
   },
   "file_extension": ".py",
   "mimetype": "text/x-python",
   "name": "python",
   "nbconvert_exporter": "python",
   "pygments_lexer": "ipython3",
   "version": "3.10.9"
  }
 },
 "nbformat": 4,
 "nbformat_minor": 5
}
